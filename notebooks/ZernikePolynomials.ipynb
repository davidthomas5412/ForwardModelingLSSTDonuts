{
 "cells": [
  {
   "cell_type": "markdown",
   "metadata": {},
   "source": [
    "# Zernike Polynomials\n",
    "*David Thomas and Emily Li 2019/06/27*"
   ]
  },
  {
   "cell_type": "markdown",
   "metadata": {},
   "source": [
    "**Summary:** We usually decompose donut images and wavefronts into a special basis: the [zernike polynomials](https://en.wikipedia.org/wiki/Zernike_polynomials). This orthonormal set of polynomials is commonly used in optics, the low order terms correspond to common aberrations. For LSST we use the annular version of these polynomials which have a hole in the center. In this lesson we will play around with code to evaluate these polynomials and better understand their properties."
   ]
  },
  {
   "cell_type": "markdown",
   "metadata": {},
   "source": [
    "**Table of Contents:**\n",
    "- [Plotting](#Plotting)\n",
    "- [Orthogonality](#Orthogonality)\n",
    "- [Decomposition](#Decomposition)"
   ]
  },
  {
   "cell_type": "markdown",
   "metadata": {},
   "source": [
    "### Plotting\n",
    "We import the key packages. The `%matplotlib inline` command allows us to display figures in the notebook."
   ]
  },
  {
   "cell_type": "code",
   "execution_count": 2,
   "metadata": {
    "collapsed": true
   },
   "outputs": [],
   "source": [
    "%matplotlib inline \n",
    "import matplotlib.pyplot as plt\n",
    "import numpy as np\n",
    "import galsim"
   ]
  },
  {
   "cell_type": "markdown",
   "metadata": {},
   "source": [
    "We use the galsim.zernike.Zernike class to manipulate these polynomials. Let's start by plotting the 4th Zernike polynomial (which corresponds to astigmatism with our indexing). First we have to create a galsim.zernike.Zernike object."
   ]
  },
  {
   "cell_type": "code",
   "execution_count": 3,
   "metadata": {
    "collapsed": true
   },
   "outputs": [],
   "source": [
    "zernikes = np.zeros(22)\n",
    "index = 6\n",
    "zernikes[index] = 1\n",
    "zern = galsim.zernike.Zernike(zernikes)"
   ]
  },
  {
   "cell_type": "markdown",
   "metadata": {},
   "source": [
    "Let's see what member variables and methods this object has."
   ]
  },
  {
   "cell_type": "code",
   "execution_count": 4,
   "metadata": {
    "scrolled": true
   },
   "outputs": [
    {
     "name": "stdout",
     "output_type": "stream",
     "text": [
      "Help on Zernike in module galsim.zernike object:\n",
      "\n",
      "class Zernike(builtins.object)\n",
      " |  A class to represent a Zernike polynomial series\n",
      " |  (http://en.wikipedia.org/wiki/Zernike_polynomials#Zernike_polynomials).\n",
      " |  \n",
      " |  Zernike polynomials form an orthonormal basis over the unit circle.  The convention used here is\n",
      " |  for the normality constant to equal the area of integration, which is pi for the unit circle.\n",
      " |  I.e.,\n",
      " |  \n",
      " |      \\int_{unit circle} Z_i Z_j dA = \\pi \\delta_{i, j}.\n",
      " |  \n",
      " |  Two generalizations of the unit circle Zernike polynomials are also available in this class:\n",
      " |  annular Zernike polynomials, and polynomials defined over non-unit-radius circles.\n",
      " |  \n",
      " |  Annular Zernikes are orthonormal over an annulus instead of a circle (see Mahajan, J. Opt. Soc.\n",
      " |  Am. 71, 1, (1981)).  Similarly, the non-unit-radius polynomials are orthonormal over a region\n",
      " |  with outer radius not equal to 1.  Taken together, these generalizations yield the\n",
      " |  orthonormality condition:\n",
      " |  \n",
      " |      \\int_{annulus} Z_i Z_j dA = \\pi (R_outer^2 - R_inner^2) \\delta_{i, j}\n",
      " |  \n",
      " |  where 0 <= R_inner < R_outer indicate the inner and outer radii of the annulus over which the\n",
      " |  polynomials are orthonormal.\n",
      " |  \n",
      " |  The indexing convention for i and j above is that from Noll, J. Opt. Soc. Am. 66, 207-211(1976).\n",
      " |  Note that the Noll indices begin at 1; there is no Z_0.  Because of this, the series\n",
      " |  coefficients argument `coef` effectively begins with `coef[1]` (`coef[0]` is ignored).  This\n",
      " |  convention is used consistently throughout GalSim, e.g., `OpticalPSF`, `OpticalScreen`,\n",
      " |  `zernikeRotMatrix`, and `zernikeBasis`.\n",
      " |  \n",
      " |  As an example, the first few Zernike polynomials in terms of Cartesian coordinates x and y are\n",
      " |  \n",
      " |      Noll index  |  polynomial\n",
      " |      --------------------------\n",
      " |           1      |      1\n",
      " |           2      |      2 x\n",
      " |           3      |      2 y\n",
      " |           4      |  sqrt(3) (2 (x^2 + y^2) - 1)\n",
      " |  \n",
      " |  @param coef     Zernike series coefficients.  Note that coef[i] corresponds to Z_i under the\n",
      " |                  Noll index convention, and coef[0] is ignored.  (I.e., coef[1] is 'piston',\n",
      " |                  coef[4] is 'defocus', ...)\n",
      " |  @param R_outer  Outer radius.  [default: 1.0]\n",
      " |  @param R_inner  Inner radius.  [default: 0.0]\n",
      " |  \n",
      " |  Methods defined here:\n",
      " |  \n",
      " |  __eq__(self, other)\n",
      " |      Return self==value.\n",
      " |  \n",
      " |  __hash__(self)\n",
      " |      Return hash(self).\n",
      " |  \n",
      " |  __init__(self, coef, R_outer=1.0, R_inner=0.0)\n",
      " |      Initialize self.  See help(type(self)) for accurate signature.\n",
      " |  \n",
      " |  __repr__(self)\n",
      " |      Return repr(self).\n",
      " |  \n",
      " |  evalCartesian(self, x, y)\n",
      " |      Evaluate this Zernike polynomial series at Cartesian coordinates x and y.\n",
      " |      \n",
      " |      @param x  x-coordinate of evaluation points.  Can be list-like.\n",
      " |      @param y  y-coordinate of evaluation points.  Can be list-like.\n",
      " |      @returns  Series evaluations as numpy array.\n",
      " |  \n",
      " |  evalCartesianGrad(self, x, y)\n",
      " |  \n",
      " |  evalPolar(self, rho, theta)\n",
      " |      Evaluate this Zernike polynomial series at polar coordinates rho and theta.\n",
      " |      \n",
      " |      @param rho    radial coordinate of evaluation points.  Can be list-like.\n",
      " |      @param theta  azimuthal coordinate in radians (or as Angle object) of evaluation points.\n",
      " |                    Can be list-like.\n",
      " |      @returns  Series evaluations as numpy array.\n",
      " |  \n",
      " |  gradX = <galsim.utilities.lazy_property object>\n",
      " |  gradY = <galsim.utilities.lazy_property object>\n",
      " |  rotate(self, theta)\n",
      " |      Return new Zernike polynomial series rotated by angle theta.  For example:\n",
      " |      \n",
      " |          >>> Z = Zernike(coefs)\n",
      " |          >>> Zrot = Z.rotate(theta)\n",
      " |          >>> Z.evalPolar(r, th) == Zrot.evalPolar(r, th + theta)\n",
      " |      \n",
      " |      @param theta  Angle in radians.\n",
      " |      @returns  A new Zernike object.\n",
      " |  \n",
      " |  ----------------------------------------------------------------------\n",
      " |  Data descriptors defined here:\n",
      " |  \n",
      " |  __dict__\n",
      " |      dictionary for instance variables (if defined)\n",
      " |  \n",
      " |  __weakref__\n",
      " |      list of weak references to the object (if defined)\n",
      "\n"
     ]
    }
   ],
   "source": [
    "help(zern)"
   ]
  },
  {
   "cell_type": "markdown",
   "metadata": {},
   "source": [
    "We want to use the evalCartesian method. Let's start by iterating over all the values in a 2D grid with each dimension ranging from -1 to 1."
   ]
  },
  {
   "cell_type": "code",
   "execution_count": 5,
   "metadata": {},
   "outputs": [
    {
     "data": {
      "text/plain": [
       "<matplotlib.colorbar.Colorbar at 0x11b91d128>"
      ]
     },
     "execution_count": 5,
     "metadata": {},
     "output_type": "execute_result"
    },
    {
     "data": {
      "image/png": "[encoded data removed]",
      "text/plain": [
       "<matplotlib.figure.Figure at 0x1129726a0>"
      ]
     },
     "metadata": {},
     "output_type": "display_data"
    }
   ],
   "source": [
    "Z = np.zeros((100,100))\n",
    "for i,x in enumerate(np.linspace(-1,1,100)):\n",
    "    for j,y in enumerate(np.linspace(-1,1,100)):\n",
    "        Z[j,i] = zern.evalCartesian(x,y)\n",
    "        \n",
    "plt.figure()\n",
    "plt.title('First Attempt at Zernike Plot')\n",
    "plt.imshow(Z, origin='lower')\n",
    "plt.xticks([0,50,99],['-1','0','1'])\n",
    "plt.yticks([0,50,99],['-1','0','1'])\n",
    "plt.colorbar()"
   ]
  },
  {
   "cell_type": "markdown",
   "metadata": {},
   "source": [
    "Wait ... this is a box! Aren't these polynomials supposed to be defined on the unit circle? Yes and, as we will see, they are only orthonormal over the unit circle. galsim.zernike.Zernike doesn't care, if we ask it to evaluate the polynomial at a location, it will evaluate the polynomial at that location. But we should create a mask so that only the relevant domain is defined. "
   ]
  },
  {
   "cell_type": "code",
   "execution_count": 6,
   "metadata": {},
   "outputs": [
    {
     "data": {
      "text/plain": [
       "<matplotlib.colorbar.Colorbar at 0x11bafad30>"
      ]
     },
     "execution_count": 6,
     "metadata": {},
     "output_type": "execute_result"
    },
    {
     "data": {
      "image/png": "[encoded data removed]",
      "text/plain": [
       "<matplotlib.figure.Figure at 0x1129ec940>"
      ]
     },
     "metadata": {},
     "output_type": "display_data"
    }
   ],
   "source": [
    "Z = np.zeros((100,100))\n",
    "for i,x in enumerate(np.linspace(-1,1,100)):\n",
    "    for j,y in enumerate(np.linspace(-1,1,100)):\n",
    "        r = np.sqrt(x ** 2 + y ** 2)\n",
    "        if abs(r) <= 1:\n",
    "            Z[j,i] = zern.evalCartesian(x,y)\n",
    "        else:\n",
    "            Z[j,i] = np.nan\n",
    "        \n",
    "plt.figure()\n",
    "plt.title('Second Attempt at Zernike Plot')\n",
    "plt.imshow(Z, origin='lower')\n",
    "plt.xticks([0,50,99],['-1','0','1'])\n",
    "plt.yticks([0,50,99],['-1','0','1'])\n",
    "plt.colorbar()"
   ]
  },
  {
   "cell_type": "markdown",
   "metadata": {},
   "source": [
    "Woo! This looks exactly like $Z_2^{-2}$ from [wikipedia](https://en.wikipedia.org/wiki/Zernike_polynomials). However, we can make this a lot faster, and easier to read, if we use [vectorization](https://hackernoon.com/speeding-up-your-code-2-vectorizing-the-loops-with-numpy-e380e939bed3). Note that evalCartesian accepts list-like arguments, which is short for numpy.ndarrays. Here is the vectorized version of the code above."
   ]
  },
  {
   "cell_type": "code",
   "execution_count": 7,
   "metadata": {},
   "outputs": [
    {
     "data": {
      "text/plain": [
       "<matplotlib.colorbar.Colorbar at 0x11babbcf8>"
      ]
     },
     "execution_count": 7,
     "metadata": {},
     "output_type": "execute_result"
    },
    {
     "data": {
      "image/png": "[encoded data removed]",
      "text/plain": [
       "<matplotlib.figure.Figure at 0x11b900a90>"
      ]
     },
     "metadata": {},
     "output_type": "display_data"
    }
   ],
   "source": [
    "X,Y = np.meshgrid(np.linspace(-1,1,100), np.linspace(-1,1,100))\n",
    "R = np.sqrt(X ** 2 + Y ** 2)\n",
    "mask = np.abs(R) < 1\n",
    "Z = zern.evalCartesian(X,Y) \n",
    "Z[~mask] = np.nan\n",
    "\n",
    "plt.figure()\n",
    "plt.title('Second Attempt at Zernike Plot')\n",
    "plt.imshow(Z, origin='lower')\n",
    "plt.xticks([0,50,99],['-1','0','1'])\n",
    "plt.yticks([0,50,99],['-1','0','1'])\n",
    "plt.colorbar()"
   ]
  },
  {
   "cell_type": "markdown",
   "metadata": {},
   "source": [
    "There is one more piece to add. LSST has an annular aperture. Therefore we want to use the *annular* zernike polynomials. Perhaps you noticed that galsim.zernike.Zernike takes R_outer and R_inner as keyword arguments. For LSST the inner radius is 0.61, so we just need to change this and update the mask accordingly."
   ]
  },
  {
   "cell_type": "code",
   "execution_count": 8,
   "metadata": {},
   "outputs": [
    {
     "data": {
      "text/plain": [
       "<matplotlib.colorbar.Colorbar at 0x11bc49208>"
      ]
     },
     "execution_count": 8,
     "metadata": {},
     "output_type": "execute_result"
    },
    {
     "data": {
      "image/png": "[encoded data removed]",
      "text/plain": [
       "<matplotlib.figure.Figure at 0x112983588>"
      ]
     },
     "metadata": {},
     "output_type": "display_data"
    }
   ],
   "source": [
    "obscuration = 0.61\n",
    "zern = galsim.zernike.Zernike(zernikes, R_inner=obscuration)\n",
    "\n",
    "X,Y = np.meshgrid(np.linspace(-1,1,100), np.linspace(-1,1,100))\n",
    "R = np.sqrt(X ** 2 + Y ** 2)\n",
    "mask = np.logical_and(np.abs(R) < 1, np.abs(R) > obscuration)\n",
    "Z = zern.evalCartesian(X,Y) \n",
    "Z[~mask] = np.nan\n",
    "\n",
    "plt.figure()\n",
    "plt.title('Third Attempt at Zernike Plot')\n",
    "plt.imshow(Z, origin='lower')\n",
    "plt.xticks([0,50,99],['-1','0','1'])\n",
    "plt.yticks([0,50,99],['-1','0','1'])\n",
    "plt.colorbar()"
   ]
  },
  {
   "cell_type": "markdown",
   "metadata": {},
   "source": [
    "**Trick question:** Is this the same as just applying the mask to our previous Z's? Hint: No. You can plot both of them and compare. Can you think of why they are different? Hint: look at the title of the next section (Orthogonality). "
   ]
  },
  {
   "cell_type": "markdown",
   "metadata": {},
   "source": [
    "**Problem 1:** Can you plot zernikes 1-10 in separate subplots and label them with the names provided below. You can look at the [matplotlib documentation](https://matplotlib.org/3.1.0/gallery/lines_bars_and_markers/markevery_demo.html#sphx-glr-gallery-lines-bars-and-markers-markevery-demo-py) to learn how to plot multiple plots within a single figure. Note: Usually in CS things are indexed by 0 but in this case it looks like the first two zernikes are piston."
   ]
  },
  {
   "cell_type": "code",
   "execution_count": 9,
   "metadata": {
    "collapsed": true
   },
   "outputs": [],
   "source": [
    "indexToName = {\n",
    "    0: 'piston',\n",
    "    1: 'piston',\n",
    "    2: 'tilt',\n",
    "    3: 'tip',\n",
    "    4: 'defocus',\n",
    "    5: 'oblique astigmatism',\n",
    "    6: 'vertical astigmatism',\n",
    "    7: 'vertical coma',\n",
    "    8: 'horizontal coma',\n",
    "    9: 'vertical trefoil',\n",
    "    10: 'oblique trefoil',\n",
    "}\n",
    "\n",
    "# TODO: code here"
   ]
  },
  {
   "cell_type": "markdown",
   "metadata": {},
   "source": [
    "### Orthogonality"
   ]
  },
  {
   "cell_type": "markdown",
   "metadata": {},
   "source": [
    "A key property of this set of polynomials is that they are orthonormal, and the infinite set of them is complete. This means that we can decompose any continuous function into a set of zernike polynomials. Let's start by confirming that these polynomials are normalized - or that $\\iint Z_i(x,y)Z_i(x,y) d\\Omega = 1$, where $\\Omega$ is the annulus. To do this numerically we just multiply them element-wise and sum them, then divide by the total number of pixels in the annulus. "
   ]
  },
  {
   "cell_type": "code",
   "execution_count": 10,
   "metadata": {},
   "outputs": [
    {
     "name": "stdout",
     "output_type": "stream",
     "text": [
      "Integral =  0.993267951589\n"
     ]
    },
    {
     "data": {
      "image/png": "[encoded data removed]",
      "text/plain": [
       "<matplotlib.figure.Figure at 0x112983438>"
      ]
     },
     "metadata": {},
     "output_type": "display_data"
    }
   ],
   "source": [
    "obscuration = 0.61\n",
    "z5 = np.zeros(22)\n",
    "z5[5] = 1\n",
    "zern = galsim.zernike.Zernike(z5, R_inner=obscuration)\n",
    "X,Y = np.meshgrid(np.linspace(-1,1,100), np.linspace(-1,1,100))\n",
    "R = np.sqrt(X ** 2 + Y ** 2)\n",
    "mask = np.logical_and(np.abs(R) < 1, np.abs(R) > obscuration)\n",
    "Z = zern.evalCartesian(X,Y) \n",
    "Z[~mask] = np.nan\n",
    "\n",
    "plt.figure()\n",
    "plt.title(r'$Z_5^2$')\n",
    "plt.imshow(Z*Z, origin='lower')\n",
    "plt.xticks([0,50,99],['-1','0','1'])\n",
    "plt.yticks([0,50,99],['-1','0','1'])\n",
    "plt.colorbar()\n",
    "\n",
    "integral = np.sum(Z[mask] * Z[mask]) / np.sum(mask)\n",
    "print('Integral = ', integral)"
   ]
  },
  {
   "cell_type": "markdown",
   "metadata": {},
   "source": [
    "**Problem 2:** Can you repeat the calculation above for a few other zernikes?"
   ]
  },
  {
   "cell_type": "code",
   "execution_count": 11,
   "metadata": {
    "collapsed": true
   },
   "outputs": [],
   "source": [
    "# TODO: code here"
   ]
  },
  {
   "cell_type": "markdown",
   "metadata": {},
   "source": [
    "Now what happens if we change the resolution, do you think this will impact the numerical result? It is dificult to tell without trying it out."
   ]
  },
  {
   "cell_type": "code",
   "execution_count": 12,
   "metadata": {
    "scrolled": true
   },
   "outputs": [
    {
     "name": "stdout",
     "output_type": "stream",
     "text": [
      "Integral =  0.496505130179\n"
     ]
    },
    {
     "data": {
      "image/png": "[encoded data removed]",
      "text/plain": [
       "<matplotlib.figure.Figure at 0x11bc0eb38>"
      ]
     },
     "metadata": {},
     "output_type": "display_data"
    }
   ],
   "source": [
    "obscuration = 0.61\n",
    "z5 = np.zeros(22)\n",
    "z5[5] = 1\n",
    "zern = galsim.zernike.Zernike(z5, R_inner=obscuration)\n",
    "\n",
    "X,Y = np.meshgrid(np.linspace(-1,1,5), np.linspace(-1,1,5)) # Here is where we are changing the pixel resolution.\n",
    "R = np.sqrt(X ** 2 + Y ** 2)\n",
    "mask = np.logical_and(np.abs(R) <=1, np.abs(R) > obscuration)\n",
    "Z = zern.evalCartesian(X,Y) \n",
    "Z[~mask] = np.nan\n",
    "\n",
    "plt.figure()\n",
    "plt.title(r'$Z_5^2$')\n",
    "plt.imshow(Z, origin='lower')\n",
    "plt.xticks([0,2,4],['-1','0','1'])\n",
    "plt.yticks([0,2,4],['-1','0','1'])\n",
    "plt.colorbar()\n",
    "\n",
    "integral = np.sum(Z[mask] * Z[mask]) / np.sum(mask)\n",
    "print('Integral = ', integral)"
   ]
  },
  {
   "cell_type": "markdown",
   "metadata": {},
   "source": [
    "**Question:** Will this be a problem for LSST? Hint: LSST donuts will be 128 x 128 pixels."
   ]
  },
  {
   "cell_type": "markdown",
   "metadata": {},
   "source": [
    "If these polynomials are perfectly orthonormal then $\\iint Z_i(x,y) Z_j(x,y)d\\Omega = \\delta_{ij}$. Hence a matrix matrix $M$ where $M_{ij} = \\iint Z_i(x,y) Z_j(x,y)d\\Omega$ should be equal to the identity matrix.\n",
    "\n",
    "**Problem 3:** Can you fill in the code below to plot the matrix $M$ for $i,j <= 22$?"
   ]
  },
  {
   "cell_type": "code",
   "execution_count": 13,
   "metadata": {},
   "outputs": [
    {
     "ename": "NameError",
     "evalue": "name 'Zi' is not defined",
     "output_type": "error",
     "traceback": [
      "\u001b[0;31m---------------------------------------------------------------------------\u001b[0m",
      "\u001b[0;31mNameError\u001b[0m                                 Traceback (most recent call last)",
      "\u001b[0;32m<ipython-input-13-3194a26ad8e6>\u001b[0m in \u001b[0;36m<module>\u001b[0;34m()\u001b[0m\n\u001b[1;32m     10\u001b[0m     \u001b[0;32mfor\u001b[0m \u001b[0mj\u001b[0m \u001b[0;32min\u001b[0m \u001b[0mrange\u001b[0m\u001b[0;34m(\u001b[0m\u001b[0mn\u001b[0m\u001b[0;34m)\u001b[0m\u001b[0;34m:\u001b[0m\u001b[0;34m\u001b[0m\u001b[0m\n\u001b[1;32m     11\u001b[0m         \u001b[0;31m#TODO: code here to create Zi, Zj\u001b[0m\u001b[0;34m\u001b[0m\u001b[0;34m\u001b[0m\u001b[0m\n\u001b[0;32m---> 12\u001b[0;31m         \u001b[0mM\u001b[0m\u001b[0;34m[\u001b[0m\u001b[0mi\u001b[0m\u001b[0;34m,\u001b[0m\u001b[0mj\u001b[0m\u001b[0;34m]\u001b[0m \u001b[0;34m=\u001b[0m \u001b[0mnp\u001b[0m\u001b[0;34m.\u001b[0m\u001b[0msum\u001b[0m\u001b[0;34m(\u001b[0m\u001b[0mZi\u001b[0m\u001b[0;34m[\u001b[0m\u001b[0mmask\u001b[0m\u001b[0;34m]\u001b[0m \u001b[0;34m*\u001b[0m \u001b[0mZj\u001b[0m\u001b[0;34m[\u001b[0m\u001b[0mmask\u001b[0m\u001b[0;34m]\u001b[0m\u001b[0;34m)\u001b[0m \u001b[0;34m/\u001b[0m \u001b[0mnp\u001b[0m\u001b[0;34m.\u001b[0m\u001b[0msum\u001b[0m\u001b[0;34m(\u001b[0m\u001b[0mmask\u001b[0m\u001b[0;34m)\u001b[0m\u001b[0;34m\u001b[0m\u001b[0m\n\u001b[0m\u001b[1;32m     13\u001b[0m \u001b[0;34m\u001b[0m\u001b[0m\n\u001b[1;32m     14\u001b[0m \u001b[0;31m#TODO: code here to plot M. Hint: you will need plt.imshow().\u001b[0m\u001b[0;34m\u001b[0m\u001b[0;34m\u001b[0m\u001b[0m\n",
      "\u001b[0;31mNameError\u001b[0m: name 'Zi' is not defined"
     ]
    }
   ],
   "source": [
    "n = 22 \n",
    "M = np.zeros((n, n))\n",
    "\n",
    "X,Y = np.meshgrid(np.linspace(-1,1,100), np.linspace(-1,1,100))\n",
    "R = np.sqrt(X ** 2 + Y ** 2)\n",
    "mask = np.logical_and(np.abs(R) <=1, np.abs(R) > obscuration) \n",
    "# note that X,Y,R,mask are the same for the different polynomials, so we only need to create them once.\n",
    "\n",
    "for i in range(n):\n",
    "    for j in range(n):\n",
    "        #TODO: code here to create Zi, Zj\n",
    "        M[i,j] = np.sum(Zi[mask] * Zj[mask]) / np.sum(mask)\n",
    "        \n",
    "#TODO: code here to plot M. Hint: you will need plt.imshow()."
   ]
  },
  {
   "cell_type": "markdown",
   "metadata": {},
   "source": [
    "### Decomposition"
   ]
  },
  {
   "cell_type": "markdown",
   "metadata": {},
   "source": [
    "Our ultimate goal is to decompose functions like the wavefront, intensity, and surface maps into zernike polynomials. Let's start by creating a somewhat arbitrary annular surface $W$."
   ]
  },
  {
   "cell_type": "code",
   "execution_count": 14,
   "metadata": {},
   "outputs": [
    {
     "ename": "NameError",
     "evalue": "name 'arbitrary' is not defined",
     "output_type": "error",
     "traceback": [
      "\u001b[0;31m---------------------------------------------------------------------------\u001b[0m",
      "\u001b[0;31mNameError\u001b[0m                                 Traceback (most recent call last)",
      "\u001b[0;32m<ipython-input-14-15f52fc276eb>\u001b[0m in \u001b[0;36m<module>\u001b[0;34m()\u001b[0m\n\u001b[1;32m      7\u001b[0m \u001b[0mplt\u001b[0m\u001b[0;34m.\u001b[0m\u001b[0mfigure\u001b[0m\u001b[0;34m(\u001b[0m\u001b[0;34m)\u001b[0m\u001b[0;34m\u001b[0m\u001b[0m\n\u001b[1;32m      8\u001b[0m \u001b[0mplt\u001b[0m\u001b[0;34m.\u001b[0m\u001b[0mtitle\u001b[0m\u001b[0;34m(\u001b[0m\u001b[0;34mr'$W$'\u001b[0m\u001b[0;34m)\u001b[0m\u001b[0;34m\u001b[0m\u001b[0m\n\u001b[0;32m----> 9\u001b[0;31m \u001b[0mplt\u001b[0m\u001b[0;34m.\u001b[0m\u001b[0mimshow\u001b[0m\u001b[0;34m(\u001b[0m\u001b[0marbitrary\u001b[0m\u001b[0;34m,\u001b[0m \u001b[0morigin\u001b[0m\u001b[0;34m=\u001b[0m\u001b[0;34m'lower'\u001b[0m\u001b[0;34m)\u001b[0m\u001b[0;34m\u001b[0m\u001b[0m\n\u001b[0m\u001b[1;32m     10\u001b[0m \u001b[0mplt\u001b[0m\u001b[0;34m.\u001b[0m\u001b[0mxticks\u001b[0m\u001b[0;34m(\u001b[0m\u001b[0;34m[\u001b[0m\u001b[0;36m0\u001b[0m\u001b[0;34m,\u001b[0m\u001b[0;36m50\u001b[0m\u001b[0;34m,\u001b[0m\u001b[0;36m99\u001b[0m\u001b[0;34m]\u001b[0m\u001b[0;34m,\u001b[0m\u001b[0;34m[\u001b[0m\u001b[0;34m'-1'\u001b[0m\u001b[0;34m,\u001b[0m\u001b[0;34m'0'\u001b[0m\u001b[0;34m,\u001b[0m\u001b[0;34m'1'\u001b[0m\u001b[0;34m]\u001b[0m\u001b[0;34m)\u001b[0m\u001b[0;34m\u001b[0m\u001b[0m\n\u001b[1;32m     11\u001b[0m \u001b[0mplt\u001b[0m\u001b[0;34m.\u001b[0m\u001b[0myticks\u001b[0m\u001b[0;34m(\u001b[0m\u001b[0;34m[\u001b[0m\u001b[0;36m0\u001b[0m\u001b[0;34m,\u001b[0m\u001b[0;36m50\u001b[0m\u001b[0;34m,\u001b[0m\u001b[0;36m99\u001b[0m\u001b[0;34m]\u001b[0m\u001b[0;34m,\u001b[0m\u001b[0;34m[\u001b[0m\u001b[0;34m'-1'\u001b[0m\u001b[0;34m,\u001b[0m\u001b[0;34m'0'\u001b[0m\u001b[0;34m,\u001b[0m\u001b[0;34m'1'\u001b[0m\u001b[0;34m]\u001b[0m\u001b[0;34m)\u001b[0m\u001b[0;34m\u001b[0m\u001b[0m\n",
      "\u001b[0;31mNameError\u001b[0m: name 'arbitrary' is not defined"
     ]
    },
    {
     "data": {
      "image/png": "[encoded data removed]",
      "text/plain": [
       "<matplotlib.figure.Figure at 0x11bc49cc0>"
      ]
     },
     "metadata": {},
     "output_type": "display_data"
    }
   ],
   "source": [
    "X,Y = np.meshgrid(np.linspace(-1,1,100), np.linspace(-1,1,100))\n",
    "R = np.sqrt(X ** 2 + Y ** 2)\n",
    "mask = np.logical_and(np.abs(R) <=1, np.abs(R) > obscuration) \n",
    "W = X**2-Y+1\n",
    "W[~mask] = np.nan\n",
    "\n",
    "plt.figure()\n",
    "plt.title(r'$W$')\n",
    "plt.imshow(arbitrary, origin='lower')\n",
    "plt.xticks([0,50,99],['-1','0','1'])\n",
    "plt.yticks([0,50,99],['-1','0','1'])\n",
    "plt.colorbar()"
   ]
  },
  {
   "cell_type": "markdown",
   "metadata": {},
   "source": [
    "We can take the inner product $W_i = \\iint W(x,y) Z_i(x,y) d\\Omega$ to see how much of $Z_i$ is in $W\n",
    "$. Let's start with $Z_5$."
   ]
  },
  {
   "cell_type": "code",
   "execution_count": 15,
   "metadata": {},
   "outputs": [
    {
     "name": "stdout",
     "output_type": "stream",
     "text": [
      "Z5 Inner Product =  -1.18768044495e-16\n"
     ]
    }
   ],
   "source": [
    "X,Y = np.meshgrid(np.linspace(-1,1,100), np.linspace(-1,1,100))\n",
    "R = np.sqrt(X ** 2 + Y ** 2)\n",
    "mask = np.logical_and(np.abs(R) <=1, np.abs(R) > obscuration) \n",
    "\n",
    "W = X**2-Y+1\n",
    "W[~mask] = np.nan\n",
    "z5 = np.zeros(22)\n",
    "z5[5] = 1\n",
    "zern = galsim.zernike.Zernike(z5, R_inner=obscuration)\n",
    "Z5 = zern.evalCartesian(X,Y)\n",
    "\n",
    "integral = np.sum(W[mask] * Z5[mask]) / np.sum(mask)\n",
    "print(\"Z5 Inner Product = \", integral)"
   ]
  },
  {
   "cell_type": "markdown",
   "metadata": {},
   "source": [
    "What about $Z_3$? \n",
    "**Problem 4:** Can you fill in the cell below."
   ]
  },
  {
   "cell_type": "code",
   "execution_count": 16,
   "metadata": {},
   "outputs": [
    {
     "ename": "NameError",
     "evalue": "name 'Z3' is not defined",
     "output_type": "error",
     "traceback": [
      "\u001b[0;31m---------------------------------------------------------------------------\u001b[0m",
      "\u001b[0;31mNameError\u001b[0m                                 Traceback (most recent call last)",
      "\u001b[0;32m<ipython-input-16-dac47e0bded4>\u001b[0m in \u001b[0;36m<module>\u001b[0;34m()\u001b[0m\n\u001b[1;32m      7\u001b[0m \u001b[0;31m# TODO: code here to create Z3\u001b[0m\u001b[0;34m\u001b[0m\u001b[0;34m\u001b[0m\u001b[0m\n\u001b[1;32m      8\u001b[0m \u001b[0;34m\u001b[0m\u001b[0m\n\u001b[0;32m----> 9\u001b[0;31m \u001b[0mintegral\u001b[0m \u001b[0;34m=\u001b[0m \u001b[0mnp\u001b[0m\u001b[0;34m.\u001b[0m\u001b[0msum\u001b[0m\u001b[0;34m(\u001b[0m\u001b[0mW\u001b[0m\u001b[0;34m[\u001b[0m\u001b[0mmask\u001b[0m\u001b[0;34m]\u001b[0m \u001b[0;34m*\u001b[0m \u001b[0mZ3\u001b[0m\u001b[0;34m[\u001b[0m\u001b[0mmask\u001b[0m\u001b[0;34m]\u001b[0m\u001b[0;34m)\u001b[0m \u001b[0;34m/\u001b[0m \u001b[0mnp\u001b[0m\u001b[0;34m.\u001b[0m\u001b[0msum\u001b[0m\u001b[0;34m(\u001b[0m\u001b[0mmask\u001b[0m\u001b[0;34m)\u001b[0m\u001b[0;34m\u001b[0m\u001b[0m\n\u001b[0m\u001b[1;32m     10\u001b[0m \u001b[0mprint\u001b[0m\u001b[0;34m(\u001b[0m\u001b[0;34m\"Z3 Inner Product = \"\u001b[0m\u001b[0;34m,\u001b[0m \u001b[0mintegral\u001b[0m\u001b[0;34m)\u001b[0m\u001b[0;34m\u001b[0m\u001b[0m\n",
      "\u001b[0;31mNameError\u001b[0m: name 'Z3' is not defined"
     ]
    }
   ],
   "source": [
    "X,Y = np.meshgrid(np.linspace(-1,1,100), np.linspace(-1,1,100))\n",
    "R = np.sqrt(X ** 2 + Y ** 2)\n",
    "mask = np.logical_and(np.abs(R) <=1, np.abs(R) > obscuration) \n",
    "\n",
    "W = X**2-Y+1\n",
    "W[~mask] = np.nan\n",
    "# TODO: code here to create Z3\n",
    "\n",
    "integral = np.sum(W[mask] * Z3[mask]) / np.sum(mask)\n",
    "print(\"Z3 Inner Product = \", integral)"
   ]
  },
  {
   "cell_type": "markdown",
   "metadata": {},
   "source": [
    "**Problem 5:** Can you create a vector $\\vec{W}$ such that $\\vec{W}_i = \\iint W(x,y) Z_i(x,y) d\\Omega$?"
   ]
  },
  {
   "cell_type": "code",
   "execution_count": 17,
   "metadata": {
    "collapsed": true
   },
   "outputs": [],
   "source": [
    "# TODO: code here"
   ]
  },
  {
   "cell_type": "markdown",
   "metadata": {},
   "source": [
    "**Problem 6:** Can you evaluate $\\vec{W}$ and see how close it is to our original $W$? The cell below provides a hint on how to evaluate $\\vec{W}$."
   ]
  },
  {
   "cell_type": "code",
   "execution_count": 18,
   "metadata": {},
   "outputs": [
    {
     "data": {
      "text/plain": [
       "<matplotlib.colorbar.Colorbar at 0x11bfd77f0>"
      ]
     },
     "execution_count": 18,
     "metadata": {},
     "output_type": "execute_result"
    },
    {
     "data": {
      "image/png": "[encoded data removed]",
      "text/plain": [
       "<matplotlib.figure.Figure at 0x11bf63400>"
      ]
     },
     "metadata": {},
     "output_type": "display_data"
    }
   ],
   "source": [
    "Wbar = np.random.poisson(5, size=10)\n",
    "zern = galsim.zernike.Zernike(Wbar, R_inner=obscuration)\n",
    "WbarEval = zern.evalCartesian(X,Y)\n",
    "WbarEval[~mask] = np.nan\n",
    "\n",
    "plt.figure()\n",
    "plt.title(r'$W$')\n",
    "plt.imshow(WbarEval, origin='lower')\n",
    "plt.xticks([0,50,99],['-1','0','1'])\n",
    "plt.yticks([0,50,99],['-1','0','1'])\n",
    "plt.colorbar()"
   ]
  },
  {
   "cell_type": "code",
   "execution_count": 19,
   "metadata": {
    "collapsed": true
   },
   "outputs": [],
   "source": [
    "# TODO: code here"
   ]
  },
  {
   "cell_type": "markdown",
   "metadata": {},
   "source": [
    "**Problem 7:** How does the error in the reconstruction change if we add poisson noise to W? Hint: see np.random.poisson."
   ]
  },
  {
   "cell_type": "code",
   "execution_count": 20,
   "metadata": {
    "collapsed": true
   },
   "outputs": [],
   "source": [
    "# TODO: code here"
   ]
  },
  {
   "cell_type": "markdown",
   "metadata": {},
   "source": [
    "**Challenge Problem:** What do the X,Y gradients of zernike polynomials look like? Are they orthonormal? Hint: see help(zern) above to see if there is already a method that does this."
   ]
  },
  {
   "cell_type": "code",
   "execution_count": null,
   "metadata": {
    "collapsed": true
   },
   "outputs": [],
   "source": [
    "# TODO: code here"
   ]
  }
 ],
 "metadata": {
  "kernelspec": {
   "display_name": "Python 3",
   "language": "python",
   "name": "python3"
  },
  "language_info": {
   "codemirror_mode": {
    "name": "ipython",
    "version": 3
   },
   "file_extension": ".py",
   "mimetype": "text/x-python",
   "name": "python",
   "nbconvert_exporter": "python",
   "pygments_lexer": "ipython3",
   "version": "3.5.4"
  }
 },
 "nbformat": 4,
 "nbformat_minor": 2
}
